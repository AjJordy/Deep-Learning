{
 "cells": [
  {
   "cell_type": "code",
   "execution_count": 1,
   "metadata": {},
   "outputs": [
    {
     "name": "stderr",
     "output_type": "stream",
     "text": [
      "c:\\users\\jordy\\anaconda3\\envs\\tensorflow\\lib\\site-packages\\h5py\\__init__.py:36: FutureWarning: Conversion of the second argument of issubdtype from `float` to `np.floating` is deprecated. In future, it will be treated as `np.float64 == np.dtype(float).type`.\n",
      "  from ._conv import register_converters as _register_converters\n",
      "Using TensorFlow backend.\n"
     ]
    }
   ],
   "source": [
    "from matplotlib import pyplot as plt\n",
    "from keras.models import Sequential\n",
    "from keras.optimizers import Adam,RMSprop\n",
    "from keras.callbacks import ModelCheckpoint, EarlyStopping\n",
    "from keras.callbacks import Callback \n",
    "from keras.models import load_model\n",
    "from keras.layers import GlobalAveragePooling2D, Lambda, Conv2D, MaxPooling2D, Dropout, Dense, Flatten, Activation\n",
    "from keras.layers.noise import AlphaDropout\n",
    "from keras.utils import np_utils\n",
    "from keras.utils.vis_utils import plot_model\n",
    "from sklearn.preprocessing import LabelBinarizer, StandardScaler, MinMaxScaler\n",
    "from sklearn.model_selection import train_test_split\n",
    "import time\n",
    "import os\n",
    "import psutil\n",
    "import math\n",
    "import pandas as pd\n",
    "import numpy as np"
   ]
  },
  {
   "cell_type": "markdown",
   "metadata": {},
   "source": [
    "** Data set ** "
   ]
  },
  {
   "cell_type": "code",
   "execution_count": 2,
   "metadata": {
    "scrolled": true
   },
   "outputs": [],
   "source": [
    "# Data set from https://archive.ics.uci.edu/ml/datasets/Breast+Cancer+Wisconsin+(Diagnostic)\n",
    "df=pd.read_csv('data.csv',sep=',',header=None,encoding='latin-1')\n",
    "df.values\n",
    "\n",
    "X,y = df.iloc[:, 2:32], df.iloc[:,1]\n",
    "\n",
    "X = np.array(X)\n",
    "X = StandardScaler().fit_transform(X)\n",
    "#X = MinMaxScaler().fit(X)\n",
    "y = np.array(y)\n",
    "\n",
    "# Separando Dataset\n",
    "split1 = math.ceil(0.7 * X.shape[0]) # Separar 70% das imagens usadas para treino\n",
    "split2 = math.ceil(0.8 * split1)\n",
    "\n",
    "train_X = X[:split2]\n",
    "test_X = X[split2:split1]\n",
    "\n",
    "train_y = y[:split2]\n",
    "test_y = y[split2:split1]\n",
    "\n",
    "real_X = X[split1:]\n",
    "real_Y = y[split1:]\n",
    "\n",
    "#X, valid_X, Y, valid_Y = train_test_split(X, y, test_size=0.2, stratify = y)\n",
    "#train_X,test_X,train_y,test_y = train_test_split(X, Y, test_size=0.2,stratify = y)\n",
    "\n",
    "#train_X,test_X, Y_train, Y_test = train_test_split(X, y, test_size=0.3, stratify=y)"
   ]
  },
  {
   "cell_type": "markdown",
   "metadata": {},
   "source": [
    "** Hiper parameters ** "
   ]
  },
  {
   "cell_type": "code",
   "execution_count": 3,
   "metadata": {},
   "outputs": [],
   "source": [
    "num_classes = 2\n",
    "batch_size = 10\n",
    "epochs = 200\n",
    "lrn = 0.0001\n",
    "activ = 'selu'"
   ]
  },
  {
   "cell_type": "markdown",
   "metadata": {},
   "source": [
    "** One hot key ** "
   ]
  },
  {
   "cell_type": "code",
   "execution_count": 4,
   "metadata": {
    "scrolled": true
   },
   "outputs": [],
   "source": [
    "encoder = LabelBinarizer()\n",
    "train_y = encoder.fit_transform(train_y)\n",
    "test_y = encoder.fit_transform(test_y)\n",
    "\n",
    "train_Y = np_utils.to_categorical(train_y, num_classes)\n",
    "test_Y = np_utils.to_categorical(test_y, num_classes)\n",
    "\n",
    "real_Y = encoder.fit_transform(real_Y)\n",
    "real_Y = np_utils.to_categorical(real_Y, num_classes)"
   ]
  },
  {
   "cell_type": "markdown",
   "metadata": {},
   "source": [
    "** Neural Network ** "
   ]
  },
  {
   "cell_type": "code",
   "execution_count": 5,
   "metadata": {},
   "outputs": [],
   "source": [
    "def modelo():\n",
    "    model = Sequential()    \n",
    "    model.add(Dense(32,activation=activ, input_dim=30,kernel_initializer='lecun_normal'))\n",
    "    model.add(AlphaDropout(0.15))\n",
    "    model.add(Dense(64, activation=activ,kernel_initializer='lecun_normal'))\n",
    "    model.add(AlphaDropout(0.15))\n",
    "    model.add(Dense(128, activation=activ,kernel_initializer='lecun_normal'))\n",
    "    model.add(AlphaDropout(0.15))\n",
    "    model.add(Dense(128, activation=activ,kernel_initializer='lecun_normal'))\n",
    "    model.add(AlphaDropout(0.15))  \n",
    "    model.add(Dense(64, activation=activ,kernel_initializer='lecun_normal'))\n",
    "    model.add(AlphaDropout(0.15))  \n",
    "    model.add(Dense(32, activation=activ,kernel_initializer='lecun_normal'))\n",
    "    model.add(AlphaDropout(0.15))\n",
    "    model.add(Dense(num_classes, activation='softmax',kernel_initializer='lecun_normal'))\n",
    "\n",
    "    model.summary()\n",
    "    return model"
   ]
  },
  {
   "cell_type": "code",
   "execution_count": 6,
   "metadata": {},
   "outputs": [
    {
     "name": "stdout",
     "output_type": "stream",
     "text": [
      "_________________________________________________________________\n",
      "Layer (type)                 Output Shape              Param #   \n",
      "=================================================================\n",
      "dense_1 (Dense)              (None, 32)                992       \n",
      "_________________________________________________________________\n",
      "alpha_dropout_1 (AlphaDropou (None, 32)                0         \n",
      "_________________________________________________________________\n",
      "dense_2 (Dense)              (None, 64)                2112      \n",
      "_________________________________________________________________\n",
      "alpha_dropout_2 (AlphaDropou (None, 64)                0         \n",
      "_________________________________________________________________\n",
      "dense_3 (Dense)              (None, 128)               8320      \n",
      "_________________________________________________________________\n",
      "alpha_dropout_3 (AlphaDropou (None, 128)               0         \n",
      "_________________________________________________________________\n",
      "dense_4 (Dense)              (None, 128)               16512     \n",
      "_________________________________________________________________\n",
      "alpha_dropout_4 (AlphaDropou (None, 128)               0         \n",
      "_________________________________________________________________\n",
      "dense_5 (Dense)              (None, 64)                8256      \n",
      "_________________________________________________________________\n",
      "alpha_dropout_5 (AlphaDropou (None, 64)                0         \n",
      "_________________________________________________________________\n",
      "dense_6 (Dense)              (None, 32)                2080      \n",
      "_________________________________________________________________\n",
      "alpha_dropout_6 (AlphaDropou (None, 32)                0         \n",
      "_________________________________________________________________\n",
      "dense_7 (Dense)              (None, 2)                 66        \n",
      "=================================================================\n",
      "Total params: 38,338\n",
      "Trainable params: 38,338\n",
      "Non-trainable params: 0\n",
      "_________________________________________________________________\n"
     ]
    }
   ],
   "source": [
    "modelo = modelo()"
   ]
  },
  {
   "cell_type": "code",
   "execution_count": 7,
   "metadata": {},
   "outputs": [],
   "source": [
    "modelo.compile(loss='categorical_crossentropy',\n",
    "               optimizer=RMSprop(lr=lrn, rho=0.9, epsilon=None, decay=0.0),\n",
    "               metrics=['accuracy'])"
   ]
  },
  {
   "cell_type": "markdown",
   "metadata": {},
   "source": [
    "** Salva modelo ** "
   ]
  },
  {
   "cell_type": "code",
   "execution_count": 8,
   "metadata": {},
   "outputs": [],
   "source": [
    "checkpoint = ModelCheckpoint('meuModelo.h5',\n",
    "                             monitor='val_loss',\n",
    "                             verbose=0,\n",
    "                             save_best_only=True,\n",
    "                             mode='auto')"
   ]
  },
  {
   "cell_type": "code",
   "execution_count": 9,
   "metadata": {},
   "outputs": [],
   "source": [
    "early = EarlyStopping(monitor='val_loss',\n",
    "                      min_delta=0,\n",
    "                      patience=0,\n",
    "                      verbose=0, \n",
    "                      mode='auto')"
   ]
  },
  {
   "cell_type": "markdown",
   "metadata": {},
   "source": [
    "** Treina modelo ** "
   ]
  },
  {
   "cell_type": "code",
   "execution_count": 10,
   "metadata": {
    "scrolled": true
   },
   "outputs": [
    {
     "name": "stdout",
     "output_type": "stream",
     "text": [
      "Train on 320 samples, validate on 79 samples\n",
      "Epoch 1/200\n",
      "320/320 [==============================] - 1s 2ms/step - loss: 0.6989 - acc: 0.6156 - val_loss: 0.1725 - val_acc: 0.9367\n",
      "Epoch 2/200\n",
      "320/320 [==============================] - 0s 210us/step - loss: 0.6188 - acc: 0.6563 - val_loss: 0.0770 - val_acc: 0.9873\n",
      "Epoch 3/200\n",
      "320/320 [==============================] - 0s 204us/step - loss: 0.5555 - acc: 0.7031 - val_loss: 0.0437 - val_acc: 0.9873\n",
      "Epoch 4/200\n",
      "320/320 [==============================] - 0s 197us/step - loss: 0.4513 - acc: 0.7750 - val_loss: 0.0288 - val_acc: 0.9873\n",
      "Epoch 5/200\n",
      "320/320 [==============================] - 0s 196us/step - loss: 0.3709 - acc: 0.8187 - val_loss: 0.0240 - val_acc: 0.9873\n",
      "Epoch 6/200\n",
      "320/320 [==============================] - 0s 197us/step - loss: 0.3384 - acc: 0.8594 - val_loss: 0.0192 - val_acc: 0.9873\n",
      "Epoch 7/200\n",
      "320/320 [==============================] - 0s 215us/step - loss: 0.3066 - acc: 0.8781 - val_loss: 0.0220 - val_acc: 0.9873\n"
     ]
    }
   ],
   "source": [
    "begin = time.time()\n",
    "log = modelo.fit(train_X, train_Y,\n",
    "                  batch_size = batch_size,\n",
    "                  epochs = epochs,\n",
    "                  validation_data = (test_X, test_Y),\n",
    "                  #callbacks=[checkpoint],\n",
    "                  callbacks=[checkpoint,early],                 \n",
    "                  verbose=1)\n",
    "duration = time.time() - begin"
   ]
  },
  {
   "cell_type": "code",
   "execution_count": 11,
   "metadata": {},
   "outputs": [
    {
     "name": "stdout",
     "output_type": "stream",
     "text": [
      "Memory used:  1.35 MB\n",
      "Time:  1.65 seconds\n"
     ]
    }
   ],
   "source": [
    "process = psutil.Process(os.getpid())\n",
    "mem = process.memory_percent()\n",
    "print(\"Memory used: % .2f MB\" % mem)\n",
    "print(\"Time: % .2f seconds\" % duration)"
   ]
  },
  {
   "cell_type": "code",
   "execution_count": 12,
   "metadata": {
    "scrolled": false
   },
   "outputs": [
    {
     "data": {
      "image/png": "[encoded data removed]",
      "text/plain": [
       "<Figure size 432x288 with 2 Axes>"
      ]
     },
     "metadata": {},
     "output_type": "display_data"
    }
   ],
   "source": [
    "# summarize history for accuracy  \n",
    "plt.subplot(211)  \n",
    "plt.plot(log.history['acc'])  \n",
    "plt.plot(log.history['val_acc'])  \n",
    "plt.ylabel('accuracy')  \n",
    "plt.xlabel('epoch')  \n",
    "plt.legend(['train', 'test'], loc='lower right')  \n",
    "\n",
    "# summarize history for loss\n",
    "plt.subplot(212)  \n",
    "plt.plot(log.history['loss'])  \n",
    "plt.plot(log.history['val_loss'])  \n",
    "plt.ylabel('loss')  \n",
    "plt.xlabel('epoch')  \n",
    "plt.legend(['train', 'test'], loc='upper right')  \n",
    "plt.show()  "
   ]
  },
  {
   "cell_type": "code",
   "execution_count": 13,
   "metadata": {
    "scrolled": true
   },
   "outputs": [
    {
     "name": "stdout",
     "output_type": "stream",
     "text": [
      "Accuracy:  97.06%\n"
     ]
    }
   ],
   "source": [
    "# Carregar modelo salvo\n",
    "# modelo = load_model(\"meuModelo.h5\")\n",
    "scores = modelo.evaluate(real_X,real_Y, verbose=0)\n",
    "print(\"Accuracy: % .2f%%\" % (scores[1]*100))"
   ]
  }
 ],
 "metadata": {
  "kernelspec": {
   "display_name": "Python 3",
   "language": "python",
   "name": "python3"
  },
  "language_info": {
   "codemirror_mode": {
    "name": "ipython",
    "version": 3
   },
   "file_extension": ".py",
   "mimetype": "text/x-python",
   "name": "python",
   "nbconvert_exporter": "python",
   "pygments_lexer": "ipython3",
   "version": "3.5.5"
  }
 },
 "nbformat": 4,
 "nbformat_minor": 2
}
