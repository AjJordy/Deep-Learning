{
 "cells": [
  {
   "cell_type": "code",
   "execution_count": 1,
   "metadata": {},
   "outputs": [
    {
     "name": "stderr",
     "output_type": "stream",
     "text": [
      "c:\\users\\jordy\\anaconda3\\envs\\tensorflow-gpu\\lib\\site-packages\\h5py\\__init__.py:36: FutureWarning: Conversion of the second argument of issubdtype from `float` to `np.floating` is deprecated. In future, it will be treated as `np.float64 == np.dtype(float).type`.\n",
      "  from ._conv import register_converters as _register_converters\n",
      "Using TensorFlow backend.\n"
     ]
    }
   ],
   "source": [
    "from matplotlib import pyplot as plt \n",
    "from keras.preprocessing.image import ImageDataGenerator, array_to_img, img_to_array, load_img\n",
    "from keras.models import Sequential, Model\n",
    "from keras.optimizers import Adam\n",
    "from keras.callbacks import ModelCheckpoint, EarlyStopping\n",
    "from keras.callbacks import Callback \n",
    "from keras.models import load_model\n",
    "from keras.layers.noise import AlphaDropout\n",
    "from keras.layers import GlobalAveragePooling2D, Lambda, Conv2D, MaxPooling2D, Dropout, Dense, Flatten, Activation\n",
    "from keras.utils import np_utils\n",
    "from keras.utils.vis_utils import plot_model\n",
    "from keras.layers.normalization import BatchNormalization\n",
    "from keras.callbacks import Callback\n",
    "from sklearn.metrics import confusion_matrix, precision_recall_curve\n",
    "import pandas as pd\n",
    "from matplotlib import pyplot as plt\n",
    "from sklearn.metrics import f1_score as f1\n",
    "import itertools"
   ]
  },
  {
   "cell_type": "markdown",
   "metadata": {},
   "source": [
    "** Reference: https://www.kaggle.com/paultimothymooney/chest-xray-pneumonia** "
   ]
  },
  {
   "cell_type": "code",
   "execution_count": 2,
   "metadata": {},
   "outputs": [
    {
     "name": "stdout",
     "output_type": "stream",
     "text": [
      "926\n",
      "1074\n",
      "424\n",
      "778\n"
     ]
    }
   ],
   "source": [
    "import os\n",
    "import shutil\n",
    "import numpy as np\n",
    "\n",
    "base_dir = \"C:\\\\Users\\\\Jordy\\\\Desktop\\\\9° Semestre\\\\Mestrado\\\\chest_xray\"\n",
    "\n",
    "sourceN = base_dir + \"\\\\train\\\\NORMAL\\\\\"\n",
    "destN = base_dir + \"\\\\val\\\\NORMAL\"\n",
    "sourceP = base_dir + \"\\\\train\\\\PNEUMONIA\"\n",
    "destP = base_dir + \"\\\\val\\\\PNEUMONIA\"\n",
    "\n",
    "#filesN = os.listdir(sourceN)\n",
    "#filesP = os.listdir(sourceP)\n",
    "\n",
    "print(len(os.listdir(sourceN)))\n",
    "print(len(os.listdir(sourceP)))\n",
    "print(len(os.listdir(destN)))\n",
    "print(len(os.listdir(destP)))\n",
    "\n",
    "#for f in filesN:\n",
    "#    if np.random.rand(1) < 0.2:\n",
    "#        shutil.move(sourceN + '\\\\'+ f, destN + '\\\\'+ f)\n",
    "        \n",
    "#for i in filesP:\n",
    "#    if np.random.rand(1) < 0.2:\n",
    "#        shutil.move(sourceP + '\\\\'+ i, destP + '\\\\'+ i)\n"
   ]
  },
  {
   "cell_type": "code",
   "execution_count": 3,
   "metadata": {},
   "outputs": [],
   "source": [
    "lrn = 1.0e-5      \n",
    "epochs = 10      \n",
    "batch_size = 30\n",
    "img_rows, img_cols,img_channels,num_classes = 255, 255, 3, 2\n",
    "activ = 'selu'\n",
    "data_size = 1999\n",
    "val_size = 1202"
   ]
  },
  {
   "cell_type": "code",
   "execution_count": 4,
   "metadata": {},
   "outputs": [
    {
     "name": "stdout",
     "output_type": "stream",
     "text": [
      "Found 1999 images belonging to 2 classes.\n",
      "Found 1202 images belonging to 2 classes.\n",
      "Found 480 images belonging to 2 classes.\n"
     ]
    }
   ],
   "source": [
    "base_dir = \"C:\\\\Users\\\\Jordy\\\\Desktop\\\\9° Semestre\\\\Mestrado\\\\chest_xray\"\n",
    "train_dir = base_dir + '\\\\train'\n",
    "val_dir = base_dir + '\\\\val'\n",
    "test_dir = base_dir + '\\\\test'\n",
    "\n",
    "# Train\n",
    "train_datagen = ImageDataGenerator(        \n",
    "        shear_range=0.2,\n",
    "        zoom_range=0.2) \n",
    "train_generator = train_datagen.flow_from_directory(\n",
    "        train_dir,\n",
    "        target_size=(img_rows, img_cols),\n",
    "        batch_size=batch_size,\n",
    "        shuffle=False)\n",
    "\n",
    "# Val\n",
    "val_datagen = ImageDataGenerator()\n",
    "val_generator = val_datagen.flow_from_directory(\n",
    "        val_dir,\n",
    "        shuffle=False,\n",
    "        batch_size=batch_size,\n",
    "        target_size=(img_rows, img_cols))\n",
    "    \n",
    "# Test\n",
    "test_datagen = ImageDataGenerator()\n",
    "test_generator = test_datagen.flow_from_directory(\n",
    "        test_dir,\n",
    "        batch_size=batch_size,\n",
    "        target_size=(img_rows, img_cols))"
   ]
  },
  {
   "cell_type": "code",
   "execution_count": 5,
   "metadata": {},
   "outputs": [],
   "source": [
    "def modelo():\n",
    "    model = Sequential()    \n",
    "    model.add(Conv2D(16,(5,5), activation=activ,kernel_initializer='lecun_normal', \n",
    "                     padding='same', input_shape=(img_rows, img_cols, img_channels)))\n",
    "    model.add(Conv2D(32,(3,3), activation=activ,kernel_initializer='lecun_normal'))\n",
    "    model.add(MaxPooling2D(pool_size=(2,2)))\n",
    "    model.add(AlphaDropout(0.5))\n",
    "    model.add(BatchNormalization())\n",
    "    \n",
    "    model.add(Conv2D(32,(3,3), activation=activ,kernel_initializer='lecun_normal'))\n",
    "    model.add(MaxPooling2D(pool_size=(2,2)))\n",
    "    model.add(AlphaDropout(0.5))\n",
    "    model.add(BatchNormalization())\n",
    "    \n",
    "    model.add(Conv2D(64,(2,2), activation=activ,kernel_initializer='lecun_normal'))\n",
    "    model.add(MaxPooling2D(pool_size=(2,2)))\n",
    "    model.add(AlphaDropout(0.5))\n",
    "    model.add(BatchNormalization())\n",
    "       \n",
    "    model.add(Flatten())\n",
    "    \n",
    "    model.add(Dense(1024, activation=activ,kernel_initializer='lecun_normal'))\n",
    "    model.add(AlphaDropout(0.5))\n",
    "    model.add(Dense(1024, activation=activ,kernel_initializer='lecun_normal'))\n",
    "    model.add(AlphaDropout(0.5))\n",
    "    model.add(Dense(num_classes, kernel_initializer='lecun_normal',activation='softmax'))\n",
    "    \n",
    "    model.summary()\n",
    "    return model"
   ]
  },
  {
   "cell_type": "code",
   "execution_count": 6,
   "metadata": {},
   "outputs": [
    {
     "name": "stdout",
     "output_type": "stream",
     "text": [
      "_________________________________________________________________\n",
      "Layer (type)                 Output Shape              Param #   \n",
      "=================================================================\n",
      "conv2d_1 (Conv2D)            (None, 255, 255, 16)      1216      \n",
      "_________________________________________________________________\n",
      "conv2d_2 (Conv2D)            (None, 253, 253, 32)      4640      \n",
      "_________________________________________________________________\n",
      "max_pooling2d_1 (MaxPooling2 (None, 126, 126, 32)      0         \n",
      "_________________________________________________________________\n",
      "alpha_dropout_1 (AlphaDropou (None, 126, 126, 32)      0         \n",
      "_________________________________________________________________\n",
      "batch_normalization_1 (Batch (None, 126, 126, 32)      128       \n",
      "_________________________________________________________________\n",
      "conv2d_3 (Conv2D)            (None, 124, 124, 32)      9248      \n",
      "_________________________________________________________________\n",
      "max_pooling2d_2 (MaxPooling2 (None, 62, 62, 32)        0         \n",
      "_________________________________________________________________\n",
      "alpha_dropout_2 (AlphaDropou (None, 62, 62, 32)        0         \n",
      "_________________________________________________________________\n",
      "batch_normalization_2 (Batch (None, 62, 62, 32)        128       \n",
      "_________________________________________________________________\n",
      "conv2d_4 (Conv2D)            (None, 61, 61, 64)        8256      \n",
      "_________________________________________________________________\n",
      "max_pooling2d_3 (MaxPooling2 (None, 30, 30, 64)        0         \n",
      "_________________________________________________________________\n",
      "alpha_dropout_3 (AlphaDropou (None, 30, 30, 64)        0         \n",
      "_________________________________________________________________\n",
      "batch_normalization_3 (Batch (None, 30, 30, 64)        256       \n",
      "_________________________________________________________________\n",
      "flatten_1 (Flatten)          (None, 57600)             0         \n",
      "_________________________________________________________________\n",
      "dense_1 (Dense)              (None, 1024)              58983424  \n",
      "_________________________________________________________________\n",
      "alpha_dropout_4 (AlphaDropou (None, 1024)              0         \n",
      "_________________________________________________________________\n",
      "dense_2 (Dense)              (None, 1024)              1049600   \n",
      "_________________________________________________________________\n",
      "alpha_dropout_5 (AlphaDropou (None, 1024)              0         \n",
      "_________________________________________________________________\n",
      "dense_3 (Dense)              (None, 2)                 2050      \n",
      "=================================================================\n",
      "Total params: 60,058,946\n",
      "Trainable params: 60,058,690\n",
      "Non-trainable params: 256\n",
      "_________________________________________________________________\n"
     ]
    }
   ],
   "source": [
    "model = modelo()"
   ]
  },
  {
   "cell_type": "code",
   "execution_count": 7,
   "metadata": {},
   "outputs": [],
   "source": [
    "model.compile(loss='categorical_crossentropy',\n",
    "               optimizer=Adam(lr=lrn),\n",
    "               metrics=['accuracy'])"
   ]
  },
  {
   "cell_type": "code",
   "execution_count": 8,
   "metadata": {},
   "outputs": [],
   "source": [
    "checkpoint = ModelCheckpoint('meuModelo.h5',\n",
    "                             monitor='val_loss',\n",
    "                             verbose=0,\n",
    "                             save_best_only=True,\n",
    "                             mode='auto')"
   ]
  },
  {
   "cell_type": "code",
   "execution_count": 9,
   "metadata": {},
   "outputs": [],
   "source": [
    "early = EarlyStopping(monitor='val_loss',\n",
    "                      min_delta=0,\n",
    "                      patience=0,\n",
    "                      verbose=0, \n",
    "                      mode='auto')"
   ]
  },
  {
   "cell_type": "code",
   "execution_count": 10,
   "metadata": {},
   "outputs": [],
   "source": [
    "class LivePlot(Callback):    \n",
    "    def _init_(self, metric):\n",
    "        self.metric = 'accuracy' \n",
    "        \n",
    "    def on_train_begin(self, logs={}):\n",
    "        self.i = 0\n",
    "        self.x = []\n",
    "        self.train_metric_history = []\n",
    "        self.val_metric_history = []        \n",
    "        self.fig = plt.figure()        \n",
    "        self.logs = []\n",
    "        \n",
    "    def on_epoch_end(self, epoch, logs={}):        \n",
    "        self.logs.append(logs)\n",
    "        self.x.append(self.i)\n",
    "        self.train_metric_history.append(logs.get('acc'))\n",
    "        self.val_metric_history.append(logs.get('val_'+'acc'))\n",
    "        self.i += 1        \n",
    "        plt.plot(self.x, self.train_metric_history, label='acc')\n",
    "        plt.plot(self.x, self.val_metric_history, label='val_'+'acc')\n",
    "        plt.legend()\n",
    "        plt.show(); \n",
    "        \n",
    "plot = LivePlot()"
   ]
  },
  {
   "cell_type": "code",
   "execution_count": 11,
   "metadata": {},
   "outputs": [
    {
     "name": "stdout",
     "output_type": "stream",
     "text": [
      "Epoch 1/10\n",
      "66/66 [==============================] - 89s 1s/step - loss: 0.8330 - acc: 0.5171 - val_loss: 0.5404 - val_acc: 0.8325\n"
     ]
    },
    {
     "data": {
      "image/png": "[encoded data removed]",
      "text/plain": [
       "<Figure size 432x288 with 1 Axes>"
      ]
     },
     "metadata": {},
     "output_type": "display_data"
    },
    {
     "name": "stdout",
     "output_type": "stream",
     "text": [
      "Epoch 2/10\n",
      "66/66 [==============================] - 72s 1s/step - loss: 0.8049 - acc: 0.5373 - val_loss: 0.7972 - val_acc: 0.8158\n"
     ]
    },
    {
     "data": {
      "image/png": "[encoded data removed]",
      "text/plain": [
       "<Figure size 432x288 with 1 Axes>"
      ]
     },
     "metadata": {},
     "output_type": "display_data"
    }
   ],
   "source": [
    "logs = model.fit_generator(train_generator,\n",
    "                           steps_per_epoch= data_size // batch_size,\n",
    "                           epochs=epochs,\n",
    "                           validation_data=val_generator,\n",
    "                           validation_steps= val_size // batch_size,\n",
    "                           callbacks=[checkpoint,early,plot],\n",
    "                           verbose=1)"
   ]
  },
  {
   "cell_type": "code",
   "execution_count": 12,
   "metadata": {},
   "outputs": [],
   "source": [
    "def plot_confusion_matrix(cm, classes,\n",
    "                          normalize=False,\n",
    "                          title='Confusion matrix',\n",
    "                          cmap=plt.cm.Blues):\n",
    "    \"\"\"\n",
    "    This function prints and plots the confusion matrix.\n",
    "    Normalization can be applied by setting `normalize=True`.\n",
    "    \"\"\"\n",
    "    if normalize:\n",
    "        cm = cm.astype('float') / cm.sum(axis=1)[:, np.newaxis]\n",
    "        print(\"Normalized confusion matrix\")\n",
    "    else:\n",
    "        print('Confusion matrix, without normalization')\n",
    "    print(cm)\n",
    "\n",
    "    plt.imshow(cm, interpolation='nearest', cmap=cmap)\n",
    "    plt.title(title)\n",
    "    plt.colorbar()\n",
    "    tick_marks = np.arange(len(classes))\n",
    "    plt.xticks(tick_marks, classes, rotation=45)\n",
    "    plt.yticks(tick_marks, classes)\n",
    "\n",
    "    fmt = '.2f' if normalize else 'd'\n",
    "    thresh = cm.max() / 2.\n",
    "    for i, j in itertools.product(range(cm.shape[0]), range(cm.shape[1])):\n",
    "        plt.text(j, i, format(cm[i, j], fmt),\n",
    "                 horizontalalignment=\"center\",\n",
    "                 color=\"white\" if cm[i, j] > thresh else \"black\")\n",
    "\n",
    "    plt.tight_layout()\n",
    "    plt.ylabel('True label')\n",
    "    plt.xlabel('Predicted label')"
   ]
  },
  {
   "cell_type": "code",
   "execution_count": 13,
   "metadata": {},
   "outputs": [
    {
     "name": "stdout",
     "output_type": "stream",
     "text": [
      "Confusion matrix, without normalization\n",
      "[[268 156]\n",
      " [ 65 713]]\n",
      "Normalized confusion matrix\n",
      "[[0.63 0.37]\n",
      " [0.08 0.92]]\n"
     ]
    },
    {
     "data": {
      "image/png": "[encoded data removed]",
      "text/plain": [
       "<Figure size 432x288 with 2 Axes>"
      ]
     },
     "metadata": {},
     "output_type": "display_data"
    },
    {
     "data": {
      "image/png": "[encoded data removed]",
      "text/plain": [
       "<Figure size 432x288 with 2 Axes>"
      ]
     },
     "metadata": {},
     "output_type": "display_data"
    },
    {
     "name": "stdout",
     "output_type": "stream",
     "text": [
      "F1 Score: 0.81017%\n"
     ]
    }
   ],
   "source": [
    "class_names = ['Normal','Pneumonia'] \n",
    "\n",
    "Y_pred = model.predict_generator(val_generator)\n",
    "y_pred = np.argmax(Y_pred, axis=1)\n",
    "\n",
    "# Compute confusion matrix\n",
    "cnf_matrix = confusion_matrix(val_generator.classes, y_pred)\n",
    "np.set_printoptions(precision=2)\n",
    "\n",
    "# Plot non-normalized confusion matrix\n",
    "plt.figure()\n",
    "plot_confusion_matrix(cnf_matrix, classes=class_names,title='Confusion matrix, without normalization')\n",
    "\n",
    "# Plot normalized confusion matrix\n",
    "plt.figure()\n",
    "plot_confusion_matrix(cnf_matrix, classes=class_names, normalize=True,title='Normalized confusion matrix')\n",
    "\n",
    "plt.show()\n",
    "\n",
    "print(\"F1 Score: %.5f%%\" % f1(val_generator.classes, y_pred, average='weighted'))\n",
    "#precision, recall, _ = precision_recall_curve(val_generator.classes, y_pred)\n",
    "#print(\"Precision Score: %.5f%%\" % precision)\n",
    "#print(\"Recall Score: %.5f%%\" % recall)"
   ]
  },
  {
   "cell_type": "code",
   "execution_count": null,
   "metadata": {},
   "outputs": [],
   "source": []
  }
 ],
 "metadata": {
  "kernelspec": {
   "display_name": "Python 3",
   "language": "python",
   "name": "python3"
  },
  "language_info": {
   "codemirror_mode": {
    "name": "ipython",
    "version": 3
   },
   "file_extension": ".py",
   "mimetype": "text/x-python",
   "name": "python",
   "nbconvert_exporter": "python",
   "pygments_lexer": "ipython3",
   "version": "3.5.5"
  }
 },
 "nbformat": 4,
 "nbformat_minor": 2
}
